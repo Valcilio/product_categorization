{
 "cells": [
  {
   "cell_type": "markdown",
   "metadata": {},
   "source": [
    "# Imports"
   ]
  },
  {
   "cell_type": "code",
   "execution_count": 11,
   "metadata": {},
   "outputs": [],
   "source": [
    "import pandas as pd\n",
    "import json\n",
    "import requests"
   ]
  },
  {
   "cell_type": "markdown",
   "metadata": {},
   "source": [
    "# Calling API"
   ]
  },
  {
   "cell_type": "code",
   "execution_count": 12,
   "metadata": {},
   "outputs": [],
   "source": [
    "df_test = pd.read_csv('test_data/test_df.csv').drop('category', axis=1)\n",
    "df = df_test.to_json()"
   ]
  },
  {
   "cell_type": "code",
   "execution_count": 14,
   "metadata": {},
   "outputs": [
    {
     "name": "stdout",
     "output_type": "stream",
     "text": [
      "Status Code 200\n"
     ]
    }
   ],
   "source": [
    "with open('test_data/url.txt', 'r') as url:\n",
    "    url = url.readlines()[0]\n",
    "\n",
    "#url = 'http://127.0.0.1:5000/framework_data'\n",
    "\n",
    "header = {'Content-type': 'application/json' }\n",
    "framework_data = {'data': df}\n",
    "\n",
    "framework_json = json.dumps(framework_data)\n",
    "\n",
    "r = requests.post(url, data=framework_json, headers=header)\n",
    "print( 'Status Code {}'.format( r.status_code ) )"
   ]
  },
  {
   "cell_type": "markdown",
   "metadata": {},
   "source": [
    "# Checking Data"
   ]
  },
  {
   "cell_type": "code",
   "execution_count": 15,
   "metadata": {},
   "outputs": [],
   "source": [
    "df1 = pd.DataFrame(r.json(), columns=r.json()[0].keys())"
   ]
  },
  {
   "cell_type": "code",
   "execution_count": null,
   "metadata": {},
   "outputs": [],
   "source": [
    "df1"
   ]
  }
 ],
 "metadata": {
  "interpreter": {
   "hash": "450fff13fef24468119f0afbbe8563c47a1deb8705de05e4a6386c29bd605376"
  },
  "kernelspec": {
   "display_name": "Python 3.10.4 64-bit ('figma_assus')",
   "language": "python",
   "name": "python3"
  },
  "language_info": {
   "codemirror_mode": {
    "name": "ipython",
    "version": 3
   },
   "file_extension": ".py",
   "mimetype": "text/x-python",
   "name": "python",
   "nbconvert_exporter": "python",
   "pygments_lexer": "ipython3",
   "version": "3.10.4"
  },
  "orig_nbformat": 4
 },
 "nbformat": 4,
 "nbformat_minor": 2
}
