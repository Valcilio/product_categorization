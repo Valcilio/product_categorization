{
 "cells": [
  {
   "cell_type": "markdown",
   "metadata": {},
   "source": [
    "# Imports"
   ]
  },
  {
   "cell_type": "code",
   "execution_count": 1,
   "metadata": {},
   "outputs": [],
   "source": [
    "import numpy as np\n",
    "import joblib\n",
    "import pandas as pd\n",
    "from sklearn.model_selection import RandomizedSearchCV\n",
    "from sklearn.neighbors import KNeighborsClassifier\n",
    "from sklearn.linear_model import LogisticRegression\n",
    "from sklearn.ensemble import RandomForestClassifier\n",
    "from sklearn.model_selection import train_test_split\n",
    "from xgboost import XGBClassifier\n",
    "\n",
    "from resources.context import Context as c\n",
    "from resources.datatransformer import DataTransformer\n",
    "from resources.modelvalidator import ModelValidator"
   ]
  },
  {
   "cell_type": "code",
   "execution_count": 2,
   "metadata": {},
   "outputs": [],
   "source": [
    "pd.set_option('display.float_format', lambda x: '%.2f' % x)"
   ]
  },
  {
   "cell_type": "markdown",
   "metadata": {},
   "source": [
    "# Data"
   ]
  },
  {
   "cell_type": "markdown",
   "metadata": {},
   "source": [
    "## Loading Data"
   ]
  },
  {
   "cell_type": "code",
   "execution_count": 3,
   "metadata": {},
   "outputs": [],
   "source": [
    "df_prepared = joblib.load(open((c().data_proc_fld() / 'df_prepared.pkl'), 'rb'))"
   ]
  },
  {
   "cell_type": "markdown",
   "metadata": {},
   "source": [
    "## Data Preparation"
   ]
  },
  {
   "cell_type": "code",
   "execution_count": 4,
   "metadata": {},
   "outputs": [],
   "source": [
    "X = df_prepared.drop(['product_id', 'label-encoder_category'], axis=1)\n",
    "y = df_prepared['label-encoder_category']"
   ]
  },
  {
   "cell_type": "code",
   "execution_count": 5,
   "metadata": {},
   "outputs": [],
   "source": [
    "X_train, X_val, y_train, y_val = train_test_split(X, y, test_size=0.2, random_state=42)"
   ]
  },
  {
   "cell_type": "markdown",
   "metadata": {},
   "source": [
    "# 5.0. Models Otimization & Features Impact"
   ]
  },
  {
   "cell_type": "markdown",
   "metadata": {},
   "source": [
    "## 5.1. XGBoost"
   ]
  },
  {
   "cell_type": "markdown",
   "metadata": {},
   "source": [
    "### 5.1.1. Fine Tuning"
   ]
  },
  {
   "cell_type": "code",
   "execution_count": 6,
   "metadata": {},
   "outputs": [],
   "source": [
    "# param_grid = {\n",
    "#             'max_depth': np.arange(3, 18, 3),\n",
    "#             'gamma': np.arange(3, 9, 3),\n",
    "#             'reg_alpha' : np.arange(30, 180, 30),\n",
    "#             'reg_lambda' : np.arange(0, 1, 1),\n",
    "#             'colsample_bytree' : np.arange(0.5, 1, 0.5),\n",
    "#             'min_child_weight' : np.arange(0, 10, 2),\n",
    "#             'n_estimators': np.arange(30, 150, 30)\n",
    "#             }"
   ]
  },
  {
   "cell_type": "code",
   "execution_count": 7,
   "metadata": {},
   "outputs": [],
   "source": [
    "# base_estimator = XGBClassifier(random_state=42)\n",
    "# sh = RandomizedSearchCV(\n",
    "#                 base_estimator, \n",
    "#                 param_grid, \n",
    "#                 cv=10, \n",
    "#                 n_jobs=-1, \n",
    "#                 scoring='neg_mean_absolute_error',\n",
    "#                 ).fit(X, y)"
   ]
  },
  {
   "cell_type": "code",
   "execution_count": 8,
   "metadata": {},
   "outputs": [],
   "source": [
    "#sh.best_params_"
   ]
  },
  {
   "cell_type": "markdown",
   "metadata": {},
   "source": [
    "### 5.1.2. Defining Model"
   ]
  },
  {
   "cell_type": "code",
   "execution_count": 9,
   "metadata": {},
   "outputs": [],
   "source": [
    "# these params was choosed by the fine tuning process above\n",
    "xgb_params = {'reg_lambda': 0,\n",
    "            'reg_alpha': 30,\n",
    "            'n_estimators': 120,\n",
    "            'min_child_weight': 8,\n",
    "            'max_depth': 12,\n",
    "            'gamma': 6,\n",
    "            'colsample_bytree': 0.5,\n",
    "            'objective':'multi:softmax'}\n",
    "\n",
    "xgb_model = XGBClassifier(**xgb_params)"
   ]
  },
  {
   "cell_type": "markdown",
   "metadata": {},
   "source": [
    "### 5.1.3. Validations"
   ]
  },
  {
   "cell_type": "code",
   "execution_count": 10,
   "metadata": {},
   "outputs": [],
   "source": [
    "xgb_model.fit(X, y)\n",
    "model_validator = ModelValidator(model_name='XGBoost Classifier', model=xgb_model, X=X, y=y)"
   ]
  },
  {
   "cell_type": "markdown",
   "metadata": {},
   "source": [
    "#### Feature Importance"
   ]
  },
  {
   "cell_type": "code",
   "execution_count": 11,
   "metadata": {},
   "outputs": [
    {
     "data": {
      "image/png": "[encoded data removed]",
      "text/plain": [
       "<Figure size 1440x432 with 1 Axes>"
      ]
     },
     "metadata": {
      "needs_background": "light"
     },
     "output_type": "display_data"
    }
   ],
   "source": [
    "model_validator.plot_feature_importance()"
   ]
  },
  {
   "cell_type": "markdown",
   "metadata": {},
   "source": [
    "## 5.2. Random Forest"
   ]
  },
  {
   "cell_type": "markdown",
   "metadata": {},
   "source": [
    "### 5.2.1. Fine Tuning"
   ]
  },
  {
   "cell_type": "code",
   "execution_count": 12,
   "metadata": {},
   "outputs": [],
   "source": [
    "# param_grid = {\n",
    "#             'max_depth': np.arange(4, 16, 4),\n",
    "#             'min_samples_leaf': np.arange(2, 6, 2),\n",
    "#             'min_samples_split': np.arange(2, 6, 2),\n",
    "#             'n_estimators': np.arange(30, 150, 30)\n",
    "#             }"
   ]
  },
  {
   "cell_type": "code",
   "execution_count": 13,
   "metadata": {},
   "outputs": [],
   "source": [
    "# base_estimator = RandomForestClassifier(random_state=42)\n",
    "# sh = RandomizedSearchCV(\n",
    "#                 base_estimator, \n",
    "#                 param_grid, \n",
    "#                 cv=10, \n",
    "#                 n_jobs=-1, \n",
    "#                 scoring='neg_mean_absolute_error',\n",
    "#                 ).fit(X, y)"
   ]
  },
  {
   "cell_type": "code",
   "execution_count": 14,
   "metadata": {},
   "outputs": [],
   "source": [
    "# sh.best_params_"
   ]
  },
  {
   "cell_type": "markdown",
   "metadata": {},
   "source": [
    "### 5.2.2. Defining Model"
   ]
  },
  {
   "cell_type": "code",
   "execution_count": 15,
   "metadata": {},
   "outputs": [],
   "source": [
    "# these params was choosed by the fine tuning process above\n",
    "rf_params = {'n_estimators': 120,\n",
    "            'min_samples_split': 2,\n",
    "            'min_samples_leaf': 4,\n",
    "            'max_depth': 4,\n",
    "            'criterion': 'entropy'}\n",
    "\n",
    "rf_model = RandomForestClassifier(**rf_params)"
   ]
  },
  {
   "cell_type": "markdown",
   "metadata": {},
   "source": [
    "### 5.2.3. Validations"
   ]
  },
  {
   "cell_type": "code",
   "execution_count": 16,
   "metadata": {},
   "outputs": [],
   "source": [
    "rf_model.fit(X, y)\n",
    "model_validator = ModelValidator(model_name='Random Forest Regressor', model=rf_model, X=X, y=y)"
   ]
  },
  {
   "cell_type": "markdown",
   "metadata": {},
   "source": [
    "#### Feature Importance"
   ]
  },
  {
   "cell_type": "code",
   "execution_count": 17,
   "metadata": {},
   "outputs": [
    {
     "data": {
      "image/png": "[encoded data removed]",
      "text/plain": [
       "<Figure size 1440x432 with 1 Axes>"
      ]
     },
     "metadata": {
      "needs_background": "light"
     },
     "output_type": "display_data"
    }
   ],
   "source": [
    "model_validator.plot_feature_importance()"
   ]
  },
  {
   "cell_type": "markdown",
   "metadata": {},
   "source": [
    "## 5.3. K-Nearest Neighbour"
   ]
  },
  {
   "cell_type": "markdown",
   "metadata": {},
   "source": [
    "### 5.3.1. Fine Tuning"
   ]
  },
  {
   "cell_type": "code",
   "execution_count": 18,
   "metadata": {},
   "outputs": [],
   "source": [
    "# param_grid = {\n",
    "#         'leaf_size': np.arange(5, 50, 5), \n",
    "#         'n_neighbors': np.arange(5, 50, 5)\n",
    "#         }"
   ]
  },
  {
   "cell_type": "code",
   "execution_count": 19,
   "metadata": {},
   "outputs": [],
   "source": [
    "# base_estimator = KNeighborsClassifier()\n",
    "# sh = RandomizedSearchCV(\n",
    "#                 base_estimator, \n",
    "#                 param_grid, \n",
    "#                 cv=10, \n",
    "#                 n_jobs=-1, \n",
    "#                 scoring='neg_mean_absolute_error',\n",
    "#                 ).fit(X, y)"
   ]
  },
  {
   "cell_type": "code",
   "execution_count": 20,
   "metadata": {},
   "outputs": [],
   "source": [
    "#sh.best_params_"
   ]
  },
  {
   "cell_type": "markdown",
   "metadata": {},
   "source": [
    "### 5.3.2. Defining Model"
   ]
  },
  {
   "cell_type": "code",
   "execution_count": 21,
   "metadata": {},
   "outputs": [],
   "source": [
    "# these params was choosed by the fine tuning process above\n",
    "knn_params = {'n_neighbors': 45, 'leaf_size': 35}\n",
    "knn_model = KNeighborsClassifier(**knn_params)"
   ]
  },
  {
   "cell_type": "markdown",
   "metadata": {},
   "source": [
    "## 5.4. Metrics"
   ]
  },
  {
   "cell_type": "code",
   "execution_count": 22,
   "metadata": {},
   "outputs": [],
   "source": [
    "model_validator = ModelValidator(model_name='Extreme Gradient Boosting Classifier', model=xgb_model, X=X, y=y)\n",
    "xgb_cv = model_validator.kfolds_cross_val_multiclass(cv=10)\n",
    "\n",
    "model_validator = ModelValidator(model_name='Random Forest Classifier', model=rf_model, X=X, y=y)\n",
    "rf_cv = model_validator.kfolds_cross_val_multiclass(cv=10)\n",
    "\n",
    "model_validator = ModelValidator(model_name='K-Nearest Neighbour Classifier', model=knn_model, X=X, y=y)\n",
    "knn_cv = model_validator.kfolds_cross_val_multiclass(cv=10)"
   ]
  },
  {
   "cell_type": "code",
   "execution_count": 23,
   "metadata": {},
   "outputs": [
    {
     "data": {
      "text/html": [
       "<div>\n",
       "<style scoped>\n",
       "    .dataframe tbody tr th:only-of-type {\n",
       "        vertical-align: middle;\n",
       "    }\n",
       "\n",
       "    .dataframe tbody tr th {\n",
       "        vertical-align: top;\n",
       "    }\n",
       "\n",
       "    .dataframe thead th {\n",
       "        text-align: right;\n",
       "    }\n",
       "</style>\n",
       "<table border=\"1\" class=\"dataframe\">\n",
       "  <thead>\n",
       "    <tr style=\"text-align: right;\">\n",
       "      <th></th>\n",
       "      <th>Model Name</th>\n",
       "      <th>Accuracy CV</th>\n",
       "      <th>Kappa CV</th>\n",
       "      <th>Precision CV</th>\n",
       "      <th>Recall CV</th>\n",
       "      <th>F1-Score CV</th>\n",
       "    </tr>\n",
       "  </thead>\n",
       "  <tbody>\n",
       "    <tr>\n",
       "      <th>0</th>\n",
       "      <td>Extreme Gradient Boosting Classifier</td>\n",
       "      <td>0.64</td>\n",
       "      <td>0.45</td>\n",
       "      <td>0.55</td>\n",
       "      <td>0.50</td>\n",
       "      <td>0.50</td>\n",
       "    </tr>\n",
       "    <tr>\n",
       "      <th>0</th>\n",
       "      <td>Random Forest Classifier</td>\n",
       "      <td>0.61</td>\n",
       "      <td>0.40</td>\n",
       "      <td>0.51</td>\n",
       "      <td>0.46</td>\n",
       "      <td>0.43</td>\n",
       "    </tr>\n",
       "    <tr>\n",
       "      <th>0</th>\n",
       "      <td>K-Nearest Neighbour Classifier</td>\n",
       "      <td>0.49</td>\n",
       "      <td>0.13</td>\n",
       "      <td>0.37</td>\n",
       "      <td>0.31</td>\n",
       "      <td>0.28</td>\n",
       "    </tr>\n",
       "  </tbody>\n",
       "</table>\n",
       "</div>"
      ],
      "text/plain": [
       "                             Model Name  Accuracy CV  Kappa CV  Precision CV  \\\n",
       "0  Extreme Gradient Boosting Classifier         0.64      0.45          0.55   \n",
       "0              Random Forest Classifier         0.61      0.40          0.51   \n",
       "0        K-Nearest Neighbour Classifier         0.49      0.13          0.37   \n",
       "\n",
       "   Recall CV  F1-Score CV  \n",
       "0       0.50         0.50  \n",
       "0       0.46         0.43  \n",
       "0       0.31         0.28  "
      ]
     },
     "execution_count": 23,
     "metadata": {},
     "output_type": "execute_result"
    }
   ],
   "source": [
    "cv_perf = pd.concat([xgb_cv, rf_cv, knn_cv], axis=0)\n",
    "cv_perf\n",
    "\n",
    "# XGBoost aparently to be the most reliable model because their metrics are not very big or very slow\n",
    "# Then XGBoost is the model who is going to be used in deployment here"
   ]
  },
  {
   "cell_type": "markdown",
   "metadata": {},
   "source": [
    "# Saving Model"
   ]
  },
  {
   "cell_type": "code",
   "execution_count": 36,
   "metadata": {},
   "outputs": [],
   "source": [
    "# saving predict for testing\n",
    "df_prep_test = pd.read_csv(c().data_test_fld() / 'df_prep_test.csv').drop('Unnamed: 0', axis=1)\n",
    "pred = pd.Series(xgb_model.predict(df_prep_test))\n",
    "pred.name = 'category'\n",
    "pred.to_csv(c().data_test_fld() / 'pred_test.csv', index=False)"
   ]
  },
  {
   "cell_type": "code",
   "execution_count": 40,
   "metadata": {},
   "outputs": [],
   "source": [
    "joblib.dump(xgb_model, open(c().models_fld() / 'xgb_class_model.pkl', 'wb'))"
   ]
  }
 ],
 "metadata": {
  "interpreter": {
   "hash": "450fff13fef24468119f0afbbe8563c47a1deb8705de05e4a6386c29bd605376"
  },
  "kernelspec": {
   "display_name": "Python 3.10.4 64-bit ('figma_assus')",
   "language": "python",
   "name": "python3"
  },
  "language_info": {
   "codemirror_mode": {
    "name": "ipython",
    "version": 3
   },
   "file_extension": ".py",
   "mimetype": "text/x-python",
   "name": "python",
   "nbconvert_exporter": "python",
   "pygments_lexer": "ipython3",
   "version": "3.10.4"
  },
  "orig_nbformat": 4
 },
 "nbformat": 4,
 "nbformat_minor": 2
}
