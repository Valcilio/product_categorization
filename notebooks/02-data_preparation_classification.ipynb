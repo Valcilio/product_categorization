{
 "cells": [
  {
   "cell_type": "markdown",
   "metadata": {},
   "source": [
    "# Imports"
   ]
  },
  {
   "cell_type": "code",
   "execution_count": 1,
   "metadata": {},
   "outputs": [],
   "source": [
    "import pandas as pd\n",
    "import joblib\n",
    "import warnings\n",
    "\n",
    "from resources.context import Context as c\n",
    "from resources.datatransformer import DataTransformer"
   ]
  },
  {
   "cell_type": "code",
   "execution_count": 2,
   "metadata": {},
   "outputs": [],
   "source": [
    "pd.set_option('display.float_format', lambda x: '%.2f' % x)\n",
    "warnings.filterwarnings(action='ignore')"
   ]
  },
  {
   "cell_type": "markdown",
   "metadata": {},
   "source": [
    "# Data Load"
   ]
  },
  {
   "cell_type": "code",
   "execution_count": 3,
   "metadata": {},
   "outputs": [],
   "source": [
    "df_prepare = joblib.load(open((c().data_proc_fld() / '01_df_prepared_class.pkl'), 'rb'))"
   ]
  },
  {
   "cell_type": "markdown",
   "metadata": {},
   "source": [
    "# 4.0. Data Preparation"
   ]
  },
  {
   "cell_type": "markdown",
   "metadata": {},
   "source": [
    "## 4.1. Encoding"
   ]
  },
  {
   "cell_type": "markdown",
   "metadata": {},
   "source": [
    "### Change Dtype"
   ]
  },
  {
   "cell_type": "code",
   "execution_count": 4,
   "metadata": {},
   "outputs": [],
   "source": [
    "df_prepare['cod_tipo_pessoa'] = df_prepare['cod_tipo_pessoa'].astype(int)\n",
    "df_prepare['cod_tipo_pessoa'].apply(lambda x: 0 if x == 1 else 1)\n",
    "df_prepare['flg_aceita_troca'] = df_prepare['flg_aceita_troca'].astype(int)"
   ]
  },
  {
   "cell_type": "markdown",
   "metadata": {},
   "source": [
    "### Numerization by quantity"
   ]
  },
  {
   "cell_type": "code",
   "execution_count": 5,
   "metadata": {},
   "outputs": [],
   "source": [
    "df_prepare['ipva_dono'] = df_prepare['ipva_dono'].apply(lambda x: 0 if x == 'no_paid_|_moreowners' else \n",
    "                                                                  1 if x == 'no_paid_|_oneowner' else\n",
    "                                                                  2 if x == 'paid_|_moreowners' else\n",
    "                                                                  3)"
   ]
  },
  {
   "cell_type": "markdown",
   "metadata": {},
   "source": [
    "## 4.2. Rescalling"
   ]
  },
  {
   "cell_type": "code",
   "execution_count": 6,
   "metadata": {},
   "outputs": [],
   "source": [
    "df_prepare, bo_scaler = DataTransformer(df=df_prepare).rescaling(y='best_offer', df=df_prepare, method='min-max')\n",
    "df_prepare, ct_scaler = DataTransformer(df=df_prepare).rescaling(y='cliques_telefone*', df=df_prepare, method='min-max')\n",
    "df_prepare, v_scaler = DataTransformer(df=df_prepare).rescaling(y='views', df=df_prepare, method='min-max')\n",
    "df_prepared, ipvad_scaler = DataTransformer(df=df_prepare).rescaling(y='ipva_dono', df=df_prepare, method='min-max')"
   ]
  },
  {
   "cell_type": "markdown",
   "metadata": {},
   "source": [
    "# Data Save"
   ]
  },
  {
   "cell_type": "code",
   "execution_count": 7,
   "metadata": {},
   "outputs": [],
   "source": [
    "joblib.dump(df_prepared, open((c().data_proc_fld() / 'df_prepared_class.pkl'), 'wb'))"
   ]
  }
 ],
 "metadata": {
  "interpreter": {
   "hash": "450fff13fef24468119f0afbbe8563c47a1deb8705de05e4a6386c29bd605376"
  },
  "kernelspec": {
   "display_name": "Python 3.10.4 64-bit ('figma_assus')",
   "language": "python",
   "name": "python3"
  },
  "language_info": {
   "codemirror_mode": {
    "name": "ipython",
    "version": 3
   },
   "file_extension": ".py",
   "mimetype": "text/x-python",
   "name": "python",
   "nbconvert_exporter": "python",
   "pygments_lexer": "ipython3",
   "version": "3.10.4"
  },
  "orig_nbformat": 4
 },
 "nbformat": 4,
 "nbformat_minor": 2
}
