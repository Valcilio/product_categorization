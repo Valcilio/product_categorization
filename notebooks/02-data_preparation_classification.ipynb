{
 "cells": [
  {
   "cell_type": "markdown",
   "metadata": {},
   "source": [
    "# Imports"
   ]
  },
  {
   "cell_type": "code",
   "execution_count": 1,
   "metadata": {},
   "outputs": [],
   "source": [
    "import pandas as pd\n",
    "import joblib\n",
    "import warnings\n",
    "\n",
    "from resources.context import Context as c\n",
    "from resources.datatransformer import DataTransformer"
   ]
  },
  {
   "cell_type": "code",
   "execution_count": 2,
   "metadata": {},
   "outputs": [],
   "source": [
    "pd.set_option('display.float_format', lambda x: '%.2f' % x)\n",
    "warnings.filterwarnings(action='ignore')"
   ]
  },
  {
   "cell_type": "markdown",
   "metadata": {},
   "source": [
    "# Data Load"
   ]
  },
  {
   "cell_type": "code",
   "execution_count": 3,
   "metadata": {},
   "outputs": [],
   "source": [
    "df_prepare = joblib.load(open((c().data_proc_fld() / 'df_prepare.pkl'), 'rb'))"
   ]
  },
  {
   "cell_type": "markdown",
   "metadata": {},
   "source": [
    "# 4.0. Data Preparation"
   ]
  },
  {
   "cell_type": "markdown",
   "metadata": {},
   "source": [
    "## 4.1. Encoding"
   ]
  },
  {
   "cell_type": "markdown",
   "metadata": {},
   "source": [
    "### Change Dtype"
   ]
  },
  {
   "cell_type": "code",
   "execution_count": 4,
   "metadata": {},
   "outputs": [],
   "source": [
    "df_prepare['week_of_year'] = df_prepare['week_of_year'].astype(int)"
   ]
  },
  {
   "cell_type": "markdown",
   "metadata": {},
   "source": [
    "## 4.2. Rescalling"
   ]
  },
  {
   "cell_type": "code",
   "execution_count": 5,
   "metadata": {},
   "outputs": [],
   "source": [
    "df_prepare, po_scaler = DataTransformer(df=df_prepare).rescaling(y='position', df=df_prepare, method='min-max')\n",
    "df_prepare, pr_scaler = DataTransformer(df=df_prepare).rescaling(y='price', df=df_prepare, method='min-max')\n",
    "df_prepare, wei_scaler = DataTransformer(df=df_prepare).rescaling(y='weight', df=df_prepare, method='min-max')\n",
    "df_prepare, mq_scaler = DataTransformer(df=df_prepare).rescaling(y='minimum_quantity', df=df_prepare, method='min-max')\n",
    "df_prepare, vc_scaler = DataTransformer(df=df_prepare).rescaling(y='view_counts', df=df_prepare, method='min-max')\n",
    "df_prepare, ed_scaler = DataTransformer(df=df_prepare).rescaling(y='express_delivery', df=df_prepare, method='min-max')\n",
    "df_prepare, pp_scaler = DataTransformer(df=df_prepare).rescaling(y='page_position', df=df_prepare, method='min-max')\n",
    "df_prepare, ppw_scaler = DataTransformer(df=df_prepare).rescaling(y='price_per_weight', df=df_prepare, method='min-max')\n",
    "df_prepare, woy_scaler = DataTransformer(df=df_prepare).rescaling(y='week_of_year', df=df_prepare, method='min-max')"
   ]
  },
  {
   "cell_type": "code",
   "execution_count": 6,
   "metadata": {},
   "outputs": [],
   "source": [
    "df_prepared, cat_encoder = DataTransformer(df=df_prepare).rescaling(y='category', df=df_prepare, method='label-encoder')"
   ]
  },
  {
   "cell_type": "markdown",
   "metadata": {},
   "source": [
    "# Data Save"
   ]
  },
  {
   "cell_type": "code",
   "execution_count": 7,
   "metadata": {},
   "outputs": [],
   "source": [
    "joblib.dump(df_prepared, open((c().data_proc_fld() / 'df_prepared.pkl'), 'wb'))"
   ]
  }
 ],
 "metadata": {
  "interpreter": {
   "hash": "450fff13fef24468119f0afbbe8563c47a1deb8705de05e4a6386c29bd605376"
  },
  "kernelspec": {
   "display_name": "Python 3.10.4 64-bit ('figma_assus')",
   "language": "python",
   "name": "python3"
  },
  "language_info": {
   "codemirror_mode": {
    "name": "ipython",
    "version": 3
   },
   "file_extension": ".py",
   "mimetype": "text/x-python",
   "name": "python",
   "nbconvert_exporter": "python",
   "pygments_lexer": "ipython3",
   "version": "3.10.4"
  },
  "orig_nbformat": 4
 },
 "nbformat": 4,
 "nbformat_minor": 2
}
